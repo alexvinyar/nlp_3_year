{
 "cells": [
  {
   "cell_type": "markdown",
   "metadata": {},
   "source": [
    "Техническое:"
   ]
  },
  {
   "cell_type": "code",
   "execution_count": 1,
   "metadata": {
    "collapsed": false
   },
   "outputs": [],
   "source": [
    "import pandas as pd\n",
    "import numpy as np\n",
    "import random\n",
    "import matplotlib.pyplot as plt\n",
    "from matplotlib import rc\n",
    "%matplotlib inline"
   ]
  },
  {
   "cell_type": "code",
   "execution_count": 2,
   "metadata": {
    "collapsed": true
   },
   "outputs": [],
   "source": [
    "#for cyrillic characters in matplotlib\n",
    "font = {'family': 'Verdana',\n",
    "        'weight': 'normal'}\n",
    "rc('font', **font)"
   ]
  },
  {
   "cell_type": "markdown",
   "metadata": {},
   "source": [
    "В качестве корпуса я взяла папки Science, OpenCorpora и Fiction из архива RuCorTestSet. Сначала я составила матрицу term\\*document для всей коллекции текстов, потому что с помощью нее можно получить все необходимые частоты. Матрица была составлена с помощью DocFreq, была взята матрица по леммам.\n",
    "#### Задание 0.\n",
    "Читаем таблицу и частотный словарь русского языка:"
   ]
  },
  {
   "cell_type": "code",
   "execution_count": 3,
   "metadata": {
    "collapsed": false
   },
   "outputs": [],
   "source": [
    "freqtable = pd.read_csv('LM_res.txt',sep='\\t')\n",
    "freqdict = pd.read_csv('freqrnc2011.csv',sep='\\t')\n",
    "\n",
    "freqtable.columns = [x.replace('D:\\\\Катя\\\\Учеба\\\\NLP\\\\HW1\\\\TestSet\\\\','') for x in freqtable.columns]"
   ]
  },
  {
   "cell_type": "markdown",
   "metadata": {},
   "source": [
    "#### Задание 1.1.\n",
    "Выделяем глазами-руками ключевые слова в выбранном тексте, смотрим на их абсолютную частоту в корпусе и в самом тексте."
   ]
  },
  {
   "cell_type": "code",
   "execution_count": 4,
   "metadata": {
    "collapsed": false
   },
   "outputs": [
    {
     "data": {
      "text/html": [
       "<div>\n",
       "<table border=\"1\" class=\"dataframe\">\n",
       "  <thead>\n",
       "    <tr style=\"text-align: right;\">\n",
       "      <th></th>\n",
       "      <th>Lemma</th>\n",
       "      <th>Total</th>\n",
       "      <th>Science\\energie.txt</th>\n",
       "    </tr>\n",
       "  </thead>\n",
       "  <tbody>\n",
       "    <tr>\n",
       "      <th>9549</th>\n",
       "      <td>установка</td>\n",
       "      <td>52</td>\n",
       "      <td>6</td>\n",
       "    </tr>\n",
       "    <tr>\n",
       "      <th>14601</th>\n",
       "      <td>мишень</td>\n",
       "      <td>22</td>\n",
       "      <td>11</td>\n",
       "    </tr>\n",
       "    <tr>\n",
       "      <th>16225</th>\n",
       "      <td>лазер</td>\n",
       "      <td>19</td>\n",
       "      <td>7</td>\n",
       "    </tr>\n",
       "    <tr>\n",
       "      <th>17117</th>\n",
       "      <td>излучение</td>\n",
       "      <td>19</td>\n",
       "      <td>4</td>\n",
       "    </tr>\n",
       "    <tr>\n",
       "      <th>18685</th>\n",
       "      <td>выделять</td>\n",
       "      <td>78</td>\n",
       "      <td>7</td>\n",
       "    </tr>\n",
       "    <tr>\n",
       "      <th>27317</th>\n",
       "      <td>термоядерный</td>\n",
       "      <td>18</td>\n",
       "      <td>17</td>\n",
       "    </tr>\n",
       "    <tr>\n",
       "      <th>27421</th>\n",
       "      <td>синтез</td>\n",
       "      <td>28</td>\n",
       "      <td>17</td>\n",
       "    </tr>\n",
       "    <tr>\n",
       "      <th>31093</th>\n",
       "      <td>энергия</td>\n",
       "      <td>72</td>\n",
       "      <td>19</td>\n",
       "    </tr>\n",
       "    <tr>\n",
       "      <th>39111</th>\n",
       "      <td>реактор</td>\n",
       "      <td>9</td>\n",
       "      <td>4</td>\n",
       "    </tr>\n",
       "    <tr>\n",
       "      <th>41015</th>\n",
       "      <td>реакция</td>\n",
       "      <td>51</td>\n",
       "      <td>11</td>\n",
       "    </tr>\n",
       "  </tbody>\n",
       "</table>\n",
       "</div>"
      ],
      "text/plain": [
       "              Lemma  Total  Science\\energie.txt\n",
       "9549      установка     52                    6\n",
       "14601        мишень     22                   11\n",
       "16225         лазер     19                    7\n",
       "17117     излучение     19                    4\n",
       "18685      выделять     78                    7\n",
       "27317  термоядерный     18                   17\n",
       "27421        синтез     28                   17\n",
       "31093       энергия     72                   19\n",
       "39111       реактор      9                    4\n",
       "41015       реакция     51                   11"
      ]
     },
     "execution_count": 4,
     "metadata": {},
     "output_type": "execute_result"
    }
   ],
   "source": [
    "#keywords for selected text\n",
    "keywords = ['синтез','энергия','термоядерный','реакция','установка',\n",
    "            'реактор','лазер','мишень','излучение','выделять']\n",
    "selectedfile = 'Science\\\\energie.txt'\n",
    "\n",
    "#extract rows with keywords\n",
    "keytable = freqtable[freqtable.word.isin(keywords)].loc[:,['word','Total',selectedfile]]\n",
    "keytable.columns = ['Lemma','Total','Science\\\\energie.txt']\n",
    "keytable"
   ]
  },
  {
   "cell_type": "markdown",
   "metadata": {},
   "source": [
    "Находим количество токенов в корпусе и в выбранном тексте:"
   ]
  },
  {
   "cell_type": "code",
   "execution_count": 5,
   "metadata": {
    "collapsed": false
   },
   "outputs": [
    {
     "name": "stdout",
     "output_type": "stream",
     "text": [
      "all tokens: 710741 \n",
      "tokens in selected text: 1070\n"
     ]
    }
   ],
   "source": [
    "alltokens = np.sum(freqtable.loc[:,'Total'])\n",
    "selectedtokens = np.sum(freqtable.loc[:,selectedfile])\n",
    "print ('all tokens:',alltokens,'\\ntokens in selected text:',selectedtokens)"
   ]
  },
  {
   "cell_type": "markdown",
   "metadata": {},
   "source": [
    "Считаем частоту в ipm - по всему корпусу и в выбранном тексте. Кроме того, смотрим на частоту слов в частотном словаре."
   ]
  },
  {
   "cell_type": "code",
   "execution_count": 6,
   "metadata": {
    "collapsed": false
   },
   "outputs": [
    {
     "data": {
      "text/html": [
       "<div>\n",
       "<table border=\"1\" class=\"dataframe\">\n",
       "  <thead>\n",
       "    <tr style=\"text-align: right;\">\n",
       "      <th></th>\n",
       "      <th>Lemma</th>\n",
       "      <th>Total</th>\n",
       "      <th>Science\\energie.txt</th>\n",
       "      <th>Freq(ipm)</th>\n",
       "    </tr>\n",
       "  </thead>\n",
       "  <tbody>\n",
       "    <tr>\n",
       "      <th>0</th>\n",
       "      <td>установка</td>\n",
       "      <td>73.2</td>\n",
       "      <td>5607.5</td>\n",
       "      <td>82.6</td>\n",
       "    </tr>\n",
       "    <tr>\n",
       "      <th>1</th>\n",
       "      <td>мишень</td>\n",
       "      <td>31.0</td>\n",
       "      <td>10280.4</td>\n",
       "      <td>10.1</td>\n",
       "    </tr>\n",
       "    <tr>\n",
       "      <th>2</th>\n",
       "      <td>лазер</td>\n",
       "      <td>26.7</td>\n",
       "      <td>6542.1</td>\n",
       "      <td>4.8</td>\n",
       "    </tr>\n",
       "    <tr>\n",
       "      <th>3</th>\n",
       "      <td>излучение</td>\n",
       "      <td>26.7</td>\n",
       "      <td>3738.3</td>\n",
       "      <td>19.4</td>\n",
       "    </tr>\n",
       "    <tr>\n",
       "      <th>4</th>\n",
       "      <td>выделять</td>\n",
       "      <td>109.7</td>\n",
       "      <td>6542.1</td>\n",
       "      <td>29.2</td>\n",
       "    </tr>\n",
       "    <tr>\n",
       "      <th>5</th>\n",
       "      <td>термоядерный</td>\n",
       "      <td>25.3</td>\n",
       "      <td>15887.9</td>\n",
       "      <td>4.5</td>\n",
       "    </tr>\n",
       "    <tr>\n",
       "      <th>6</th>\n",
       "      <td>синтез</td>\n",
       "      <td>39.4</td>\n",
       "      <td>15887.9</td>\n",
       "      <td>22.6</td>\n",
       "    </tr>\n",
       "    <tr>\n",
       "      <th>7</th>\n",
       "      <td>энергия</td>\n",
       "      <td>101.3</td>\n",
       "      <td>17757.0</td>\n",
       "      <td>99.7</td>\n",
       "    </tr>\n",
       "    <tr>\n",
       "      <th>8</th>\n",
       "      <td>реактор</td>\n",
       "      <td>12.7</td>\n",
       "      <td>3738.3</td>\n",
       "      <td>6.6</td>\n",
       "    </tr>\n",
       "    <tr>\n",
       "      <th>9</th>\n",
       "      <td>реакция</td>\n",
       "      <td>71.8</td>\n",
       "      <td>10280.4</td>\n",
       "      <td>97.2</td>\n",
       "    </tr>\n",
       "  </tbody>\n",
       "</table>\n",
       "</div>"
      ],
      "text/plain": [
       "          Lemma  Total  Science\\energie.txt  Freq(ipm)\n",
       "0     установка   73.2               5607.5       82.6\n",
       "1        мишень   31.0              10280.4       10.1\n",
       "2         лазер   26.7               6542.1        4.8\n",
       "3     излучение   26.7               3738.3       19.4\n",
       "4      выделять  109.7               6542.1       29.2\n",
       "5  термоядерный   25.3              15887.9        4.5\n",
       "6        синтез   39.4              15887.9       22.6\n",
       "7       энергия  101.3              17757.0       99.7\n",
       "8       реактор   12.7               3738.3        6.6\n",
       "9       реакция   71.8              10280.4       97.2"
      ]
     },
     "execution_count": 6,
     "metadata": {},
     "output_type": "execute_result"
    }
   ],
   "source": [
    "#count ipm of keywords - in all collection and in selected text\n",
    "keytable.loc[:,'Total'] = round((keytable.loc[:,'Total'] * 1000000) / alltokens, 1)\n",
    "keytable.loc[:,selectedfile] = round((keytable.loc[:,selectedfile] * 1000000) / selectedtokens, 1)\n",
    "pd.merge(keytable,freqdict[freqdict.Lemma.isin(keywords)].loc[:,['Freq(ipm)','Lemma']],on=['Lemma'])"
   ]
  },
  {
   "cell_type": "markdown",
   "metadata": {},
   "source": [
    "Можно сказать, что все выбранные ключевые слова довольно редки.<br>\n",
    "Ни одно из этих слов не входит в топ-500 по частоте. <br>\n",
    "В списке больше всего существительных, но также есть глагол и прилагательное. <br>\n",
    "Нет слов, встретившихся в большом количестве документов, так как эти слова принадлежат к определенной, довольно узкой, теме.\n",
    "#### Задание 1.2.\n",
    "Матрица term\\*document по всей коллекции уже составлена.<br>\n",
    "Функция для поиска документов по запросу Word1&Word2&¬Word3:"
   ]
  },
  {
   "cell_type": "code",
   "execution_count": 7,
   "metadata": {
    "collapsed": false
   },
   "outputs": [
    {
     "data": {
      "text/plain": [
       "{'Science\\\\energie.txt'}"
      ]
     },
     "execution_count": 7,
     "metadata": {},
     "output_type": "execute_result"
    }
   ],
   "source": [
    "def find_texts(df,word1,word2,word3):\n",
    "    colnames1 = df.loc[df.word == word1][df != 0].dropna(axis=1).columns\n",
    "    colnames2 = df.loc[df.word == word2][df != 0].dropna(axis=1).columns\n",
    "    colnames3 = df.loc[df.word == word3][df == 0].dropna(axis=1).columns\n",
    "    colnames = set(colnames1) & set(colnames2) & set(colnames3)\n",
    "    return colnames\n",
    "\n",
    "find_texts(freqtable,'синтез','термоядерный','комиссия')"
   ]
  },
  {
   "cell_type": "markdown",
   "metadata": {},
   "source": [
    "Слова, которые встречаются во всех текстах:"
   ]
  },
  {
   "cell_type": "code",
   "execution_count": 8,
   "metadata": {
    "collapsed": false
   },
   "outputs": [
    {
     "data": {
      "text/plain": [
       "22388    в\n",
       "22404    и\n",
       "Name: word, dtype: object"
      ]
     },
     "execution_count": 8,
     "metadata": {},
     "output_type": "execute_result"
    }
   ],
   "source": [
    "freqtable[freqtable != 0].dropna(axis=0).word"
   ]
  },
  {
   "cell_type": "markdown",
   "metadata": {},
   "source": [
    "#### Задание 1.3.\n",
    "\n",
    "Выбираем еще один текст, выбираем шесть ключевых слов, два частотных, два редких."
   ]
  },
  {
   "cell_type": "code",
   "execution_count": 9,
   "metadata": {
    "collapsed": false
   },
   "outputs": [],
   "source": [
    "sselectedfile = 'Science\\\\16Jul2013_independent_immuno.html.txt'\n",
    "keywords = ['клетка','раковый','рак','иммунный','лечение','фармакологический','он','быть','клей','наноситься']"
   ]
  },
  {
   "cell_type": "markdown",
   "metadata": {},
   "source": [
    "Считаем количество токенов в выбранном документе и количество документов в коллекции:"
   ]
  },
  {
   "cell_type": "code",
   "execution_count": 10,
   "metadata": {
    "collapsed": true
   },
   "outputs": [],
   "source": [
    "selectedtokens = np.sum(freqtable.loc[:,sselectedfile])\n",
    "ntotal = len(freqtable.columns) - 2"
   ]
  },
  {
   "cell_type": "markdown",
   "metadata": {},
   "source": [
    "Задаем колонки будущих таблиц:"
   ]
  },
  {
   "cell_type": "code",
   "execution_count": 11,
   "metadata": {
    "collapsed": true
   },
   "outputs": [],
   "source": [
    "table2 = {'word':[],'Fr(L)':[],'Fr(Coll)':[],'Count(w)':[],'tf':[]}\n",
    "tf_idf = {'word':[],'Count(w)':[],'LengthDoc':selectedtokens,'tf':[],'Count(doc)':[],'N': ntotal,'idf':[],'tf*idf':[]}"
   ]
  },
  {
   "cell_type": "markdown",
   "metadata": {},
   "source": [
    "Для каждого слова смотрим его частоту в частотном словаре, считаем tf\\*idf и заносим все величины в таблицу:"
   ]
  },
  {
   "cell_type": "code",
   "execution_count": 12,
   "metadata": {
    "collapsed": true
   },
   "outputs": [],
   "source": [
    "for word in keywords:\n",
    "    \n",
    "    absfreq = int(freqtable.loc[freqtable.word == word,sselectedfile])\n",
    "    tf = absfreq / selectedtokens\n",
    "    \n",
    "    ndoc = len(freqtable.loc[freqtable.word == word][freqtable != 0].dropna(axis=1).columns) - 2\n",
    "    idf = np.log10(ntotal / ndoc)\n",
    "    \n",
    "    indict = float(freqdict[freqdict.Lemma == word].loc[:,'Freq(ipm)'])\n",
    "    incoll = int(freqtable.loc[freqtable.word == word,'Total']) / alltokens\n",
    "    \n",
    "    table2['word'].append(word)\n",
    "    tf_idf['word'].append(word)\n",
    "    table2['Fr(L)'].append(indict)\n",
    "    table2['Fr(Coll)'].append(incoll)\n",
    "    table2['Count(w)'].append(absfreq)\n",
    "    tf_idf['Count(w)'].append(absfreq)\n",
    "    table2['tf'].append(tf)\n",
    "    tf_idf['tf'].append(tf)\n",
    "    tf_idf['Count(doc)'].append(ndoc)\n",
    "    tf_idf['idf'].append(idf)\n",
    "    tf_idf['tf*idf'].append(tf*idf)"
   ]
  },
  {
   "cell_type": "markdown",
   "metadata": {},
   "source": [
    "Это какая-то таблица, которая была написана в инструкции, не знаю, зачем она нужна:"
   ]
  },
  {
   "cell_type": "code",
   "execution_count": 13,
   "metadata": {
    "collapsed": false
   },
   "outputs": [
    {
     "data": {
      "text/html": [
       "<div>\n",
       "<table border=\"1\" class=\"dataframe\">\n",
       "  <thead>\n",
       "    <tr style=\"text-align: right;\">\n",
       "      <th></th>\n",
       "      <th>word</th>\n",
       "      <th>Fr(L)</th>\n",
       "      <th>Fr(Coll)</th>\n",
       "      <th>Count(w)</th>\n",
       "      <th>tf</th>\n",
       "    </tr>\n",
       "  </thead>\n",
       "  <tbody>\n",
       "    <tr>\n",
       "      <th>0</th>\n",
       "      <td>клетка</td>\n",
       "      <td>109.6</td>\n",
       "      <td>0.000132</td>\n",
       "      <td>13</td>\n",
       "      <td>0.025440</td>\n",
       "    </tr>\n",
       "    <tr>\n",
       "      <th>1</th>\n",
       "      <td>раковый</td>\n",
       "      <td>3.4</td>\n",
       "      <td>0.000007</td>\n",
       "      <td>3</td>\n",
       "      <td>0.005871</td>\n",
       "    </tr>\n",
       "    <tr>\n",
       "      <th>2</th>\n",
       "      <td>рак</td>\n",
       "      <td>22.2</td>\n",
       "      <td>0.000032</td>\n",
       "      <td>6</td>\n",
       "      <td>0.011742</td>\n",
       "    </tr>\n",
       "    <tr>\n",
       "      <th>3</th>\n",
       "      <td>иммунный</td>\n",
       "      <td>9.4</td>\n",
       "      <td>0.000010</td>\n",
       "      <td>3</td>\n",
       "      <td>0.005871</td>\n",
       "    </tr>\n",
       "    <tr>\n",
       "      <th>4</th>\n",
       "      <td>лечение</td>\n",
       "      <td>46.0</td>\n",
       "      <td>0.000027</td>\n",
       "      <td>3</td>\n",
       "      <td>0.005871</td>\n",
       "    </tr>\n",
       "    <tr>\n",
       "      <th>5</th>\n",
       "      <td>фармакологический</td>\n",
       "      <td>0.7</td>\n",
       "      <td>0.000004</td>\n",
       "      <td>3</td>\n",
       "      <td>0.005871</td>\n",
       "    </tr>\n",
       "    <tr>\n",
       "      <th>6</th>\n",
       "      <td>он</td>\n",
       "      <td>11791.1</td>\n",
       "      <td>0.011439</td>\n",
       "      <td>3</td>\n",
       "      <td>0.005871</td>\n",
       "    </tr>\n",
       "    <tr>\n",
       "      <th>7</th>\n",
       "      <td>быть</td>\n",
       "      <td>12160.7</td>\n",
       "      <td>0.010015</td>\n",
       "      <td>6</td>\n",
       "      <td>0.011742</td>\n",
       "    </tr>\n",
       "    <tr>\n",
       "      <th>8</th>\n",
       "      <td>клей</td>\n",
       "      <td>10.4</td>\n",
       "      <td>0.000004</td>\n",
       "      <td>1</td>\n",
       "      <td>0.001957</td>\n",
       "    </tr>\n",
       "    <tr>\n",
       "      <th>9</th>\n",
       "      <td>наноситься</td>\n",
       "      <td>4.4</td>\n",
       "      <td>0.000004</td>\n",
       "      <td>1</td>\n",
       "      <td>0.001957</td>\n",
       "    </tr>\n",
       "  </tbody>\n",
       "</table>\n",
       "</div>"
      ],
      "text/plain": [
       "                word    Fr(L)  Fr(Coll)  Count(w)        tf\n",
       "0             клетка    109.6  0.000132        13  0.025440\n",
       "1            раковый      3.4  0.000007         3  0.005871\n",
       "2                рак     22.2  0.000032         6  0.011742\n",
       "3           иммунный      9.4  0.000010         3  0.005871\n",
       "4            лечение     46.0  0.000027         3  0.005871\n",
       "5  фармакологический      0.7  0.000004         3  0.005871\n",
       "6                 он  11791.1  0.011439         3  0.005871\n",
       "7               быть  12160.7  0.010015         6  0.011742\n",
       "8               клей     10.4  0.000004         1  0.001957\n",
       "9         наноситься      4.4  0.000004         1  0.001957"
      ]
     },
     "execution_count": 13,
     "metadata": {},
     "output_type": "execute_result"
    }
   ],
   "source": [
    "table2 = pd.DataFrame(table2)[['word','Fr(L)','Fr(Coll)','Count(w)','tf']]\n",
    "table2"
   ]
  },
  {
   "cell_type": "markdown",
   "metadata": {},
   "source": [
    "А это таблица с сортировкой по убыванию tf\\*idf:"
   ]
  },
  {
   "cell_type": "code",
   "execution_count": 14,
   "metadata": {
    "collapsed": false
   },
   "outputs": [
    {
     "data": {
      "text/html": [
       "<div>\n",
       "<table border=\"1\" class=\"dataframe\">\n",
       "  <thead>\n",
       "    <tr style=\"text-align: right;\">\n",
       "      <th></th>\n",
       "      <th>word</th>\n",
       "      <th>Count(w)</th>\n",
       "      <th>LengthDoc</th>\n",
       "      <th>tf</th>\n",
       "      <th>Count(doc)</th>\n",
       "      <th>N</th>\n",
       "      <th>idf</th>\n",
       "      <th>tf*idf</th>\n",
       "    </tr>\n",
       "  </thead>\n",
       "  <tbody>\n",
       "    <tr>\n",
       "      <th>0</th>\n",
       "      <td>клетка</td>\n",
       "      <td>13</td>\n",
       "      <td>511</td>\n",
       "      <td>0.025440</td>\n",
       "      <td>22</td>\n",
       "      <td>643</td>\n",
       "      <td>1.465788</td>\n",
       "      <td>0.037290</td>\n",
       "    </tr>\n",
       "    <tr>\n",
       "      <th>2</th>\n",
       "      <td>рак</td>\n",
       "      <td>6</td>\n",
       "      <td>511</td>\n",
       "      <td>0.011742</td>\n",
       "      <td>15</td>\n",
       "      <td>643</td>\n",
       "      <td>1.632120</td>\n",
       "      <td>0.019164</td>\n",
       "    </tr>\n",
       "    <tr>\n",
       "      <th>5</th>\n",
       "      <td>фармакологический</td>\n",
       "      <td>3</td>\n",
       "      <td>511</td>\n",
       "      <td>0.005871</td>\n",
       "      <td>1</td>\n",
       "      <td>643</td>\n",
       "      <td>2.808211</td>\n",
       "      <td>0.016487</td>\n",
       "    </tr>\n",
       "    <tr>\n",
       "      <th>1</th>\n",
       "      <td>раковый</td>\n",
       "      <td>3</td>\n",
       "      <td>511</td>\n",
       "      <td>0.005871</td>\n",
       "      <td>3</td>\n",
       "      <td>643</td>\n",
       "      <td>2.331090</td>\n",
       "      <td>0.013685</td>\n",
       "    </tr>\n",
       "    <tr>\n",
       "      <th>3</th>\n",
       "      <td>иммунный</td>\n",
       "      <td>3</td>\n",
       "      <td>511</td>\n",
       "      <td>0.005871</td>\n",
       "      <td>5</td>\n",
       "      <td>643</td>\n",
       "      <td>2.109241</td>\n",
       "      <td>0.012383</td>\n",
       "    </tr>\n",
       "    <tr>\n",
       "      <th>4</th>\n",
       "      <td>лечение</td>\n",
       "      <td>3</td>\n",
       "      <td>511</td>\n",
       "      <td>0.005871</td>\n",
       "      <td>13</td>\n",
       "      <td>643</td>\n",
       "      <td>1.694268</td>\n",
       "      <td>0.009947</td>\n",
       "    </tr>\n",
       "    <tr>\n",
       "      <th>8</th>\n",
       "      <td>клей</td>\n",
       "      <td>1</td>\n",
       "      <td>511</td>\n",
       "      <td>0.001957</td>\n",
       "      <td>3</td>\n",
       "      <td>643</td>\n",
       "      <td>2.331090</td>\n",
       "      <td>0.004562</td>\n",
       "    </tr>\n",
       "    <tr>\n",
       "      <th>9</th>\n",
       "      <td>наноситься</td>\n",
       "      <td>1</td>\n",
       "      <td>511</td>\n",
       "      <td>0.001957</td>\n",
       "      <td>3</td>\n",
       "      <td>643</td>\n",
       "      <td>2.331090</td>\n",
       "      <td>0.004562</td>\n",
       "    </tr>\n",
       "    <tr>\n",
       "      <th>6</th>\n",
       "      <td>он</td>\n",
       "      <td>3</td>\n",
       "      <td>511</td>\n",
       "      <td>0.005871</td>\n",
       "      <td>593</td>\n",
       "      <td>643</td>\n",
       "      <td>0.035156</td>\n",
       "      <td>0.000206</td>\n",
       "    </tr>\n",
       "    <tr>\n",
       "      <th>7</th>\n",
       "      <td>быть</td>\n",
       "      <td>6</td>\n",
       "      <td>511</td>\n",
       "      <td>0.011742</td>\n",
       "      <td>622</td>\n",
       "      <td>643</td>\n",
       "      <td>0.014421</td>\n",
       "      <td>0.000169</td>\n",
       "    </tr>\n",
       "  </tbody>\n",
       "</table>\n",
       "</div>"
      ],
      "text/plain": [
       "                word  Count(w)  LengthDoc        tf  Count(doc)    N  \\\n",
       "0             клетка        13        511  0.025440          22  643   \n",
       "2                рак         6        511  0.011742          15  643   \n",
       "5  фармакологический         3        511  0.005871           1  643   \n",
       "1            раковый         3        511  0.005871           3  643   \n",
       "3           иммунный         3        511  0.005871           5  643   \n",
       "4            лечение         3        511  0.005871          13  643   \n",
       "8               клей         1        511  0.001957           3  643   \n",
       "9         наноситься         1        511  0.001957           3  643   \n",
       "6                 он         3        511  0.005871         593  643   \n",
       "7               быть         6        511  0.011742         622  643   \n",
       "\n",
       "        idf    tf*idf  \n",
       "0  1.465788  0.037290  \n",
       "2  1.632120  0.019164  \n",
       "5  2.808211  0.016487  \n",
       "1  2.331090  0.013685  \n",
       "3  2.109241  0.012383  \n",
       "4  1.694268  0.009947  \n",
       "8  2.331090  0.004562  \n",
       "9  2.331090  0.004562  \n",
       "6  0.035156  0.000206  \n",
       "7  0.014421  0.000169  "
      ]
     },
     "execution_count": 14,
     "metadata": {},
     "output_type": "execute_result"
    }
   ],
   "source": [
    "tf_idf = pd.DataFrame(tf_idf)[['word','Count(w)','LengthDoc','tf','Count(doc)','N','idf','tf*idf']]\n",
    "tf_idf.sort_values(by='tf*idf',ascending=False)"
   ]
  },
  {
   "cell_type": "markdown",
   "metadata": {},
   "source": [
    "Собственно, первые шесть слов в этой таблице - ключевые слова, следующие два слова - редкие для корпуса, последние два - частые, встречающиеся во многих документах. <br>\n",
    "Все ключевые слова оказались наверху, в самом низу местоимение и многозначный (и многофункциональный) глагол. <br>\n",
    "В \"стоп-список\" стоит включать слова из закрытых классов (союзы, предлоги, местоимения), легкие глаголы; для артиклевых языков - артикли; всевозможные вспомогательные глаголы и глаголы-связки, части регулярных аналитических конструкций.\n",
    "\n",
    "Теперь посчитаем tf\\*idf для всех слов в документе:"
   ]
  },
  {
   "cell_type": "code",
   "execution_count": 15,
   "metadata": {
    "collapsed": false
   },
   "outputs": [],
   "source": [
    "wordsinsel = list(freqtable.loc[:,['word',sselectedfile]][freqtable != 0].dropna(axis=0).word)\n",
    "tf_idf_all = {'word':[],'tf_idf':[]}\n",
    "for word in wordsinsel:\n",
    "    absfreq = int(freqtable.loc[freqtable.word == word,sselectedfile])\n",
    "    tf = absfreq / selectedtokens\n",
    "    \n",
    "    ndoc = len(freqtable.loc[freqtable.word == word][freqtable != 0].dropna(axis=1).columns) - 2\n",
    "    idf = np.log10(ntotal / ndoc)\n",
    "    \n",
    "    tf_idf_all['word'].append(word)\n",
    "    tf_idf_all['tf_idf'].append(tf*idf)"
   ]
  },
  {
   "cell_type": "markdown",
   "metadata": {},
   "source": [
    "Посмотрим на начало и конец отсортированной по убыванию tf\\*idf получившейся таблицы. <br><br>\n",
    "Начало:"
   ]
  },
  {
   "cell_type": "code",
   "execution_count": 17,
   "metadata": {
    "collapsed": false
   },
   "outputs": [
    {
     "data": {
      "text/html": [
       "<div>\n",
       "<table border=\"1\" class=\"dataframe\">\n",
       "  <thead>\n",
       "    <tr style=\"text-align: right;\">\n",
       "      <th></th>\n",
       "      <th>tf_idf</th>\n",
       "      <th>word</th>\n",
       "    </tr>\n",
       "  </thead>\n",
       "  <tbody>\n",
       "    <tr>\n",
       "      <th>64</th>\n",
       "      <td>0.037290</td>\n",
       "      <td>клетка</td>\n",
       "    </tr>\n",
       "    <tr>\n",
       "      <th>109</th>\n",
       "      <td>0.027478</td>\n",
       "      <td>иммунотерапия</td>\n",
       "    </tr>\n",
       "    <tr>\n",
       "      <th>161</th>\n",
       "      <td>0.019164</td>\n",
       "      <td>рак</td>\n",
       "    </tr>\n",
       "    <tr>\n",
       "      <th>155</th>\n",
       "      <td>0.016487</td>\n",
       "      <td>фармакологический</td>\n",
       "    </tr>\n",
       "    <tr>\n",
       "      <th>152</th>\n",
       "      <td>0.016487</td>\n",
       "      <td>immunocore</td>\n",
       "    </tr>\n",
       "    <tr>\n",
       "      <th>89</th>\n",
       "      <td>0.016487</td>\n",
       "      <td>якобсен</td>\n",
       "    </tr>\n",
       "    <tr>\n",
       "      <th>90</th>\n",
       "      <td>0.014719</td>\n",
       "      <td>ракова</td>\n",
       "    </tr>\n",
       "    <tr>\n",
       "      <th>26</th>\n",
       "      <td>0.013685</td>\n",
       "      <td>раков</td>\n",
       "    </tr>\n",
       "    <tr>\n",
       "      <th>39</th>\n",
       "      <td>0.013685</td>\n",
       "      <td>раковый</td>\n",
       "    </tr>\n",
       "    <tr>\n",
       "      <th>9</th>\n",
       "      <td>0.013534</td>\n",
       "      <td>рака</td>\n",
       "    </tr>\n",
       "    <tr>\n",
       "      <th>265</th>\n",
       "      <td>0.012952</td>\n",
       "      <td>коннор</td>\n",
       "    </tr>\n",
       "    <tr>\n",
       "      <th>207</th>\n",
       "      <td>0.012383</td>\n",
       "      <td>иммунный</td>\n",
       "    </tr>\n",
       "    <tr>\n",
       "      <th>209</th>\n",
       "      <td>0.011969</td>\n",
       "      <td>компания</td>\n",
       "    </tr>\n",
       "    <tr>\n",
       "      <th>244</th>\n",
       "      <td>0.011918</td>\n",
       "      <td>клеточный</td>\n",
       "    </tr>\n",
       "    <tr>\n",
       "      <th>289</th>\n",
       "      <td>0.011185</td>\n",
       "      <td>терапия</td>\n",
       "    </tr>\n",
       "    <tr>\n",
       "      <th>80</th>\n",
       "      <td>0.010991</td>\n",
       "      <td>противораковый</td>\n",
       "    </tr>\n",
       "    <tr>\n",
       "      <th>273</th>\n",
       "      <td>0.009947</td>\n",
       "      <td>лечение</td>\n",
       "    </tr>\n",
       "    <tr>\n",
       "      <th>63</th>\n",
       "      <td>0.009813</td>\n",
       "      <td>антитело</td>\n",
       "    </tr>\n",
       "    <tr>\n",
       "      <th>150</th>\n",
       "      <td>0.009196</td>\n",
       "      <td>заключаться</td>\n",
       "    </tr>\n",
       "    <tr>\n",
       "      <th>190</th>\n",
       "      <td>0.009124</td>\n",
       "      <td>рецептор</td>\n",
       "    </tr>\n",
       "  </tbody>\n",
       "</table>\n",
       "</div>"
      ],
      "text/plain": [
       "       tf_idf               word\n",
       "64   0.037290             клетка\n",
       "109  0.027478      иммунотерапия\n",
       "161  0.019164                рак\n",
       "155  0.016487  фармакологический\n",
       "152  0.016487         immunocore\n",
       "89   0.016487            якобсен\n",
       "90   0.014719             ракова\n",
       "26   0.013685              раков\n",
       "39   0.013685            раковый\n",
       "9    0.013534               рака\n",
       "265  0.012952             коннор\n",
       "207  0.012383           иммунный\n",
       "209  0.011969           компания\n",
       "244  0.011918          клеточный\n",
       "289  0.011185            терапия\n",
       "80   0.010991     противораковый\n",
       "273  0.009947            лечение\n",
       "63   0.009813           антитело\n",
       "150  0.009196        заключаться\n",
       "190  0.009124           рецептор"
      ]
     },
     "execution_count": 17,
     "metadata": {},
     "output_type": "execute_result"
    }
   ],
   "source": [
    "tf_idf_all_sorted = pd.DataFrame(tf_idf_all).sort_values(by='tf_idf',ascending=False)\n",
    "tf_idf_all_sorted.head(20)"
   ]
  },
  {
   "cell_type": "markdown",
   "metadata": {},
   "source": [
    "Конец:"
   ]
  },
  {
   "cell_type": "code",
   "execution_count": 18,
   "metadata": {
    "collapsed": false
   },
   "outputs": [
    {
     "data": {
      "text/html": [
       "<div>\n",
       "<table border=\"1\" class=\"dataframe\">\n",
       "  <thead>\n",
       "    <tr style=\"text-align: right;\">\n",
       "      <th></th>\n",
       "      <th>tf_idf</th>\n",
       "      <th>word</th>\n",
       "    </tr>\n",
       "  </thead>\n",
       "  <tbody>\n",
       "    <tr>\n",
       "      <th>25</th>\n",
       "      <td>0.000305</td>\n",
       "      <td>год</td>\n",
       "    </tr>\n",
       "    <tr>\n",
       "      <th>160</th>\n",
       "      <td>0.000268</td>\n",
       "      <td>так</td>\n",
       "    </tr>\n",
       "    <tr>\n",
       "      <th>11</th>\n",
       "      <td>0.000236</td>\n",
       "      <td>она</td>\n",
       "    </tr>\n",
       "    <tr>\n",
       "      <th>257</th>\n",
       "      <td>0.000230</td>\n",
       "      <td>это</td>\n",
       "    </tr>\n",
       "    <tr>\n",
       "      <th>138</th>\n",
       "      <td>0.000217</td>\n",
       "      <td>с</td>\n",
       "    </tr>\n",
       "    <tr>\n",
       "      <th>258</th>\n",
       "      <td>0.000215</td>\n",
       "      <td>один</td>\n",
       "    </tr>\n",
       "    <tr>\n",
       "      <th>86</th>\n",
       "      <td>0.000211</td>\n",
       "      <td>оно</td>\n",
       "    </tr>\n",
       "    <tr>\n",
       "      <th>97</th>\n",
       "      <td>0.000206</td>\n",
       "      <td>он</td>\n",
       "    </tr>\n",
       "    <tr>\n",
       "      <th>236</th>\n",
       "      <td>0.000202</td>\n",
       "      <td>его</td>\n",
       "    </tr>\n",
       "    <tr>\n",
       "      <th>279</th>\n",
       "      <td>0.000192</td>\n",
       "      <td>от</td>\n",
       "    </tr>\n",
       "    <tr>\n",
       "      <th>58</th>\n",
       "      <td>0.000184</td>\n",
       "      <td>свой</td>\n",
       "    </tr>\n",
       "    <tr>\n",
       "      <th>261</th>\n",
       "      <td>0.000169</td>\n",
       "      <td>быть</td>\n",
       "    </tr>\n",
       "    <tr>\n",
       "      <th>243</th>\n",
       "      <td>0.000169</td>\n",
       "      <td>этот</td>\n",
       "    </tr>\n",
       "    <tr>\n",
       "      <th>5</th>\n",
       "      <td>0.000135</td>\n",
       "      <td>не</td>\n",
       "    </tr>\n",
       "    <tr>\n",
       "      <th>159</th>\n",
       "      <td>0.000124</td>\n",
       "      <td>как</td>\n",
       "    </tr>\n",
       "    <tr>\n",
       "      <th>256</th>\n",
       "      <td>0.000112</td>\n",
       "      <td>что</td>\n",
       "    </tr>\n",
       "    <tr>\n",
       "      <th>119</th>\n",
       "      <td>0.000086</td>\n",
       "      <td>по</td>\n",
       "    </tr>\n",
       "    <tr>\n",
       "      <th>171</th>\n",
       "      <td>0.000007</td>\n",
       "      <td>на</td>\n",
       "    </tr>\n",
       "    <tr>\n",
       "      <th>133</th>\n",
       "      <td>0.000000</td>\n",
       "      <td>в</td>\n",
       "    </tr>\n",
       "    <tr>\n",
       "      <th>135</th>\n",
       "      <td>0.000000</td>\n",
       "      <td>и</td>\n",
       "    </tr>\n",
       "  </tbody>\n",
       "</table>\n",
       "</div>"
      ],
      "text/plain": [
       "       tf_idf  word\n",
       "25   0.000305   год\n",
       "160  0.000268   так\n",
       "11   0.000236   она\n",
       "257  0.000230   это\n",
       "138  0.000217     с\n",
       "258  0.000215  один\n",
       "86   0.000211   оно\n",
       "97   0.000206    он\n",
       "236  0.000202   его\n",
       "279  0.000192    от\n",
       "58   0.000184  свой\n",
       "261  0.000169  быть\n",
       "243  0.000169  этот\n",
       "5    0.000135    не\n",
       "159  0.000124   как\n",
       "256  0.000112   что\n",
       "119  0.000086    по\n",
       "171  0.000007    на\n",
       "133  0.000000     в\n",
       "135  0.000000     и"
      ]
     },
     "execution_count": 18,
     "metadata": {},
     "output_type": "execute_result"
    }
   ],
   "source": [
    "tf_idf_all_sorted.tail(20)"
   ]
  },
  {
   "cell_type": "markdown",
   "metadata": {},
   "source": [
    "В топ таблицы вошли все ключевые слова. <br>\n",
    "В топ также вошли части именованных сущностей и неправильно лемматизированные слова, что не несет никакой тематической информации.<br>\n",
    "Порогом для ключевых слов может являться tf\\*idf > 0.009.\n",
    "#### Задание 1.4.\n",
    "Делим весь корпус на 10 примерно равных подкорпусов:\n"
   ]
  },
  {
   "cell_type": "code",
   "execution_count": 19,
   "metadata": {
    "collapsed": false
   },
   "outputs": [
    {
     "name": "stdout",
     "output_type": "stream",
     "text": [
      "part 1 - 70135\n",
      "part 2 - 71725\n",
      "part 3 - 70484\n",
      "part 4 - 73083\n",
      "part 5 - 71468\n",
      "part 6 - 71482\n",
      "part 7 - 71507\n",
      "part 8 - 70350\n",
      "part 9 - 70758\n",
      "part 10 - 69749\n"
     ]
    }
   ],
   "source": [
    "onepart = alltokens / 10\n",
    "\n",
    "al = 0\n",
    "i = 1\n",
    "parts = {}\n",
    "\n",
    "cols = list(freqtable.columns[2:])\n",
    "random.seed(7)\n",
    "random.shuffle(cols)\n",
    "\n",
    "for column in cols:\n",
    "    al += np.sum(freqtable[column])\n",
    "    if i in parts:\n",
    "        parts[i].append(column)\n",
    "    else:\n",
    "        parts[i] = [column]\n",
    "    if al >= onepart-1000:\n",
    "        print('part',i,'-',al)\n",
    "        i += 1\n",
    "        al = 0\n",
    "print('part',i,'-',al)"
   ]
  },
  {
   "cell_type": "markdown",
   "metadata": {},
   "source": [
    "Выбираем два самых частотных слова, а также два слова с самым высоким tf\\*idf из предыдущего задания:"
   ]
  },
  {
   "cell_type": "code",
   "execution_count": 20,
   "metadata": {
    "collapsed": false
   },
   "outputs": [],
   "source": [
    "mostfreq = freqtable.loc[freqtable.Total == max(freqtable.loc[:,'Total']),:]['word'].to_string(index = False)\n",
    "secmostfreq = freqtable.loc[freqtable.Total == sorted(freqtable.loc[:,'Total'])[-2],:]['word'].to_string(index = False)\n",
    "\n",
    "tf_idf_first = tf_idf_all_sorted.head(2).iloc[[0]]['word'].to_string(index = False)\n",
    "tf_idf_second = tf_idf_all_sorted.head(2).iloc[[1]]['word'].to_string(index = False)\n",
    "\n",
    "keys = [mostfreq,secmostfreq,tf_idf_first,tf_idf_second]"
   ]
  },
  {
   "cell_type": "markdown",
   "metadata": {},
   "source": [
    "Считаем относительную частоту слов в каждом подкорпусе, а еще ipm по всему корпусу:"
   ]
  },
  {
   "cell_type": "code",
   "execution_count": 21,
   "metadata": {
    "collapsed": true
   },
   "outputs": [],
   "source": [
    "colltable = {x:[] for x in keys}\n",
    "ipmtable = {'word':[],'Coll(ipm)':[],'Dict(ipm)':[]}\n",
    "            \n",
    "for key in keys:\n",
    "    for i in parts:\n",
    "        colltable[key].append(float(np.sum(freqtable.loc[freqtable.word == key,parts[i]],axis=1) / \n",
    "                                    np.sum(np.sum(freqtable[parts[i]]))))\n",
    "    ipmtable['Coll(ipm)'].append(round(float(freqtable.loc[freqtable.word == key,'Total'] * 1000000) / alltokens, 1))\n",
    "    ipmtable['word'].append(key)\n",
    "    \n",
    "    #иммунотерапии в словаре нет, к сожалению...\n",
    "    try: ipmtable['Dict(ipm)'].append(float(freqdict[freqdict.Lemma == key].loc[:,'Freq(ipm)']))\n",
    "    except: ipmtable['Dict(ipm)'].append('no data')"
   ]
  },
  {
   "cell_type": "markdown",
   "metadata": {},
   "source": [
    "Таблица относительных частот разных слов по подкорпусам:"
   ]
  },
  {
   "cell_type": "code",
   "execution_count": 22,
   "metadata": {
    "collapsed": false
   },
   "outputs": [
    {
     "data": {
      "text/html": [
       "<div>\n",
       "<table border=\"1\" class=\"dataframe\">\n",
       "  <thead>\n",
       "    <tr style=\"text-align: right;\">\n",
       "      <th></th>\n",
       "      <th>в</th>\n",
       "      <th>и</th>\n",
       "      <th>иммунотерапия</th>\n",
       "      <th>клетка</th>\n",
       "    </tr>\n",
       "  </thead>\n",
       "  <tbody>\n",
       "    <tr>\n",
       "      <th>1</th>\n",
       "      <td>0.035004</td>\n",
       "      <td>0.029771</td>\n",
       "      <td>0.00000</td>\n",
       "      <td>0.000014</td>\n",
       "    </tr>\n",
       "    <tr>\n",
       "      <th>2</th>\n",
       "      <td>0.026908</td>\n",
       "      <td>0.030938</td>\n",
       "      <td>0.00007</td>\n",
       "      <td>0.000181</td>\n",
       "    </tr>\n",
       "    <tr>\n",
       "      <th>3</th>\n",
       "      <td>0.028872</td>\n",
       "      <td>0.032334</td>\n",
       "      <td>0.00000</td>\n",
       "      <td>0.000057</td>\n",
       "    </tr>\n",
       "    <tr>\n",
       "      <th>4</th>\n",
       "      <td>0.028529</td>\n",
       "      <td>0.029118</td>\n",
       "      <td>0.00000</td>\n",
       "      <td>0.000014</td>\n",
       "    </tr>\n",
       "    <tr>\n",
       "      <th>5</th>\n",
       "      <td>0.030867</td>\n",
       "      <td>0.030321</td>\n",
       "      <td>0.00000</td>\n",
       "      <td>0.000042</td>\n",
       "    </tr>\n",
       "    <tr>\n",
       "      <th>6</th>\n",
       "      <td>0.029644</td>\n",
       "      <td>0.029910</td>\n",
       "      <td>0.00000</td>\n",
       "      <td>0.000112</td>\n",
       "    </tr>\n",
       "    <tr>\n",
       "      <th>7</th>\n",
       "      <td>0.028571</td>\n",
       "      <td>0.030780</td>\n",
       "      <td>0.00000</td>\n",
       "      <td>0.000140</td>\n",
       "    </tr>\n",
       "    <tr>\n",
       "      <th>8</th>\n",
       "      <td>0.029780</td>\n",
       "      <td>0.030448</td>\n",
       "      <td>0.00000</td>\n",
       "      <td>0.000227</td>\n",
       "    </tr>\n",
       "    <tr>\n",
       "      <th>9</th>\n",
       "      <td>0.029113</td>\n",
       "      <td>0.030272</td>\n",
       "      <td>0.00000</td>\n",
       "      <td>0.000509</td>\n",
       "    </tr>\n",
       "    <tr>\n",
       "      <th>10</th>\n",
       "      <td>0.027742</td>\n",
       "      <td>0.029678</td>\n",
       "      <td>0.00000</td>\n",
       "      <td>0.000029</td>\n",
       "    </tr>\n",
       "  </tbody>\n",
       "</table>\n",
       "</div>"
      ],
      "text/plain": [
       "           в         и  иммунотерапия    клетка\n",
       "1   0.035004  0.029771        0.00000  0.000014\n",
       "2   0.026908  0.030938        0.00007  0.000181\n",
       "3   0.028872  0.032334        0.00000  0.000057\n",
       "4   0.028529  0.029118        0.00000  0.000014\n",
       "5   0.030867  0.030321        0.00000  0.000042\n",
       "6   0.029644  0.029910        0.00000  0.000112\n",
       "7   0.028571  0.030780        0.00000  0.000140\n",
       "8   0.029780  0.030448        0.00000  0.000227\n",
       "9   0.029113  0.030272        0.00000  0.000509\n",
       "10  0.027742  0.029678        0.00000  0.000029"
      ]
     },
     "execution_count": 22,
     "metadata": {},
     "output_type": "execute_result"
    }
   ],
   "source": [
    "colldf = pd.DataFrame(colltable,index=range(1,11))\n",
    "colldf"
   ]
  },
  {
   "cell_type": "markdown",
   "metadata": {},
   "source": [
    "Таблица ipm по всему корпусу и по частотному словарю:"
   ]
  },
  {
   "cell_type": "code",
   "execution_count": 23,
   "metadata": {
    "collapsed": false
   },
   "outputs": [
    {
     "data": {
      "text/html": [
       "<div>\n",
       "<table border=\"1\" class=\"dataframe\">\n",
       "  <thead>\n",
       "    <tr style=\"text-align: right;\">\n",
       "      <th></th>\n",
       "      <th>word</th>\n",
       "      <th>Coll(ipm)</th>\n",
       "      <th>Dict(ipm)</th>\n",
       "    </tr>\n",
       "  </thead>\n",
       "  <tbody>\n",
       "    <tr>\n",
       "      <th>0</th>\n",
       "      <td>и</td>\n",
       "      <td>30354.2</td>\n",
       "      <td>35801.8</td>\n",
       "    </tr>\n",
       "    <tr>\n",
       "      <th>1</th>\n",
       "      <td>в</td>\n",
       "      <td>29494.6</td>\n",
       "      <td>31374.2</td>\n",
       "    </tr>\n",
       "    <tr>\n",
       "      <th>2</th>\n",
       "      <td>клетка</td>\n",
       "      <td>132.3</td>\n",
       "      <td>109.6</td>\n",
       "    </tr>\n",
       "    <tr>\n",
       "      <th>3</th>\n",
       "      <td>иммунотерапия</td>\n",
       "      <td>7.0</td>\n",
       "      <td>no data</td>\n",
       "    </tr>\n",
       "  </tbody>\n",
       "</table>\n",
       "</div>"
      ],
      "text/plain": [
       "            word  Coll(ipm) Dict(ipm)\n",
       "0              и    30354.2   35801.8\n",
       "1              в    29494.6   31374.2\n",
       "2         клетка      132.3     109.6\n",
       "3  иммунотерапия        7.0   no data"
      ]
     },
     "execution_count": 23,
     "metadata": {},
     "output_type": "execute_result"
    }
   ],
   "source": [
    "ipmdf = pd.DataFrame(ipmtable)[['word','Coll(ipm)','Dict(ipm)']]\n",
    "ipmdf"
   ]
  },
  {
   "cell_type": "markdown",
   "metadata": {},
   "source": [
    "Частоты примерно похожи, только вот редкого слова *иммунотерапия* в частотном словаре не нашлось. <br><br>\n",
    "Графики относительной частоты по подкорпусам:"
   ]
  },
  {
   "cell_type": "code",
   "execution_count": 24,
   "metadata": {
    "collapsed": false
   },
   "outputs": [
    {
     "data": {
      "image/png": "[encoded data removed]",
      "text/plain": [
       "<matplotlib.figure.Figure at 0x300d908>"
      ]
     },
     "metadata": {},
     "output_type": "display_data"
    }
   ],
   "source": [
    "plt.figure(figsize=(15, 10))\n",
    "for i,col in enumerate(colldf.columns):\n",
    "    plt.subplot(2,2,i+1)\n",
    "    plt.bar(range(1,11),colldf[col],width=1)\n",
    "\n",
    "    axes = plt.gca()\n",
    "    axes.set_ylim([0,0.04])\n",
    "    axes.set_xticks(range(1,11))\n",
    "    plt.xlabel('subcorpus number');\n",
    "    plt.ylabel('frequency')\n",
    "    plt.title(col)"
   ]
  },
  {
   "cell_type": "markdown",
   "metadata": {},
   "source": [
    "Во-первых, частотные слова намного частотнее слов с высоким tf\\*idf, что неудивительно. Слова с высоким tf\\*idf встречаются скорее окказионально в некоторых подкорпусах (*иммунотерапия* представлена только в одном, *клетка* встречается во всех, но в малом количестве), частотные слова распределены более-менее равномерно."
   ]
  }
 ],
 "metadata": {
  "anaconda-cloud": {},
  "kernelspec": {
   "display_name": "Python [default]",
   "language": "python",
   "name": "python3"
  },
  "language_info": {
   "codemirror_mode": {
    "name": "ipython",
    "version": 3
   },
   "file_extension": ".py",
   "mimetype": "text/x-python",
   "name": "python",
   "nbconvert_exporter": "python",
   "pygments_lexer": "ipython3",
   "version": "3.5.2"
  }
 },
 "nbformat": 4,
 "nbformat_minor": 1
}
